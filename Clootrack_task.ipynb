{
 "cells": [
  {
   "cell_type": "code",
   "execution_count": null,
   "id": "17a5f0f9",
   "metadata": {},
   "outputs": [],
   "source": [
    "import numpy as np\n",
    "import pandas as pd\n",
    "import seaborn as sns\n",
    "import matplotlib.pyplot as plt\n"
   ]
  },
  {
   "cell_type": "code",
   "execution_count": null,
   "id": "bca3e1d4",
   "metadata": {},
   "outputs": [],
   "source": [
    "df=pd.read_csv(\"Data Analyst - Test Data - US.csv\")"
   ]
  },
  {
   "cell_type": "code",
   "execution_count": null,
   "id": "cd2d3f16",
   "metadata": {},
   "outputs": [],
   "source": [
    "df.head()"
   ]
  },
  {
   "cell_type": "code",
   "execution_count": null,
   "id": "5b81f299",
   "metadata": {},
   "outputs": [],
   "source": [
    "df.shape"
   ]
  },
  {
   "cell_type": "code",
   "execution_count": null,
   "id": "dac8bc1d",
   "metadata": {},
   "outputs": [],
   "source": [
    "df.info()"
   ]
  },
  {
   "cell_type": "code",
   "execution_count": null,
   "id": "abf48651",
   "metadata": {},
   "outputs": [],
   "source": [
    "#data cleaning and checking for null values\n",
    "df.isna().value_counts()"
   ]
  },
  {
   "cell_type": "code",
   "execution_count": null,
   "id": "232b8139",
   "metadata": {},
   "outputs": [],
   "source": [
    "df.isna().sum()"
   ]
  },
  {
   "cell_type": "code",
   "execution_count": null,
   "id": "4abfa024",
   "metadata": {},
   "outputs": [],
   "source": [
    "df.Location.isna().value_counts()"
   ]
  },
  {
   "cell_type": "code",
   "execution_count": null,
   "id": "212d0025",
   "metadata": {},
   "outputs": [],
   "source": [
    "file=df.replace(to_replace=[\"New York, NY\", \"NY\", \"New York\", \"new york\",\"NYC\"],\n",
    "             value=\"New York\")"
   ]
  },
  {
   "cell_type": "code",
   "execution_count": null,
   "id": "ab8dd1b6",
   "metadata": {},
   "outputs": [],
   "source": [
    "file.Location.isna().value_counts()"
   ]
  },
  {
   "cell_type": "code",
   "execution_count": null,
   "id": "30d4fa80",
   "metadata": {},
   "outputs": [],
   "source": [
    "file_without_null = file[file[\"Location\"].isna() != True]"
   ]
  },
  {
   "cell_type": "code",
   "execution_count": null,
   "id": "8b22113d",
   "metadata": {},
   "outputs": [],
   "source": [
    "file_without_null.Location.isna().value_counts()"
   ]
  },
  {
   "cell_type": "code",
   "execution_count": null,
   "id": "80b962f5",
   "metadata": {},
   "outputs": [],
   "source": [
    "file_without_null[\"Location\"]=file_without_null[\"Location\"].astype(str)"
   ]
  },
  {
   "cell_type": "code",
   "execution_count": null,
   "id": "b7bdb9eb",
   "metadata": {},
   "outputs": [],
   "source": [
    "file_without_null.dtypes"
   ]
  },
  {
   "cell_type": "code",
   "execution_count": null,
   "id": "fcd1e571",
   "metadata": {},
   "outputs": [],
   "source": [
    "occurence= pd.DataFrame(file_without_null.Location.value_counts())\n",
    "occurence"
   ]
  },
  {
   "cell_type": "code",
   "execution_count": null,
   "id": "32b0dd15",
   "metadata": {},
   "outputs": [],
   "source": [
    "occurence.head(15).to_excel(\"Occurence data.xlsx\")"
   ]
  },
  {
   "cell_type": "code",
   "execution_count": null,
   "id": "563df30a",
   "metadata": {},
   "outputs": [],
   "source": [
    "tenloc=occurence.sort_values(\"Location\", ascending=False).head(10)\n",
    "plt.bar( height=\"Location\",x=tenloc.index, data=tenloc)\n",
    "plt.xticks(rotation=90)\n",
    "plt.savefig(\"fig1.jpg\", bbox_inches=\"tight\")"
   ]
  },
  {
   "cell_type": "code",
   "execution_count": null,
   "id": "0c0fa5a1",
   "metadata": {},
   "outputs": [],
   "source": [
    "file.dtypes"
   ]
  },
  {
   "cell_type": "code",
   "execution_count": null,
   "id": "1b7e109e",
   "metadata": {},
   "outputs": [],
   "source": [
    "file[\"Review\"]=file[\"Review\"].astype(str)"
   ]
  },
  {
   "cell_type": "code",
   "execution_count": null,
   "id": "021ccf15",
   "metadata": {},
   "outputs": [],
   "source": [
    "file.dtypes"
   ]
  },
  {
   "cell_type": "code",
   "execution_count": null,
   "id": "b20937ab",
   "metadata": {},
   "outputs": [],
   "source": [
    "from collections import Counter\n",
    "file_words = \" \".join(file['Review'].tolist()).split(\" \")\n",
    "column_names = [\"word\",\"count\"]\n",
    "most_common_words_in_location = pd.DataFrame([dict(zip(column_names,word_count)) for word_count in Counter(file_words).most_common(100)])"
   ]
  },
  {
   "cell_type": "code",
   "execution_count": null,
   "id": "e75593cd",
   "metadata": {},
   "outputs": [],
   "source": [
    "type(file_words)"
   ]
  },
  {
   "cell_type": "code",
   "execution_count": null,
   "id": "23864757",
   "metadata": {},
   "outputs": [],
   "source": [
    "file_words1=pd.Series(file_words)"
   ]
  },
  {
   "cell_type": "code",
   "execution_count": null,
   "id": "121bcbcd",
   "metadata": {},
   "outputs": [],
   "source": [
    "filtered_words=file_words1[~file_words1.isin([ \"I\", \"The\", \"was\", \"with\", \"by\",\"at\", \"\\n\", \"and\",\"is\", \"We\", \"had\",\"has\", \"them\",\n",
    "                                     \"and\", \"or\", \" \", \"the\", \"it\",\"would\",\"on\",\"my\",\"to\",\"Read\", \"for\",\"as\",\n",
    "                                     \"while\",\"a\",\"but\",\"should\",\"been\",\"more\",\"less\",\"Do\",\"do\",\"will\",\"because\",\n",
    "                               \"we\",\"not\", \"were\",\"than\",\"very\",\"*the\",\"more\\n\",\" \",\"in\",\"of\",\"that\",\"are\",\"our\",\"this\",\n",
    "                               \"that\",\"you\",\"have\",\"all\",\"It\",\"so\",\"be\",\"no\",\"all\",\"they\",\"from\",\"an\",\"like\",\"  \",\"there\",\n",
    "                               \"when\",\"get\",\"one\",\"us\",\"only\",\"which\",\"me\",\"could\",\"here\",\"\\r\\n\",\"This\",\"just\",\"up\",\"close\",\"very\"])]"
   ]
  },
  {
   "cell_type": "code",
   "execution_count": null,
   "id": "0fcc03f9",
   "metadata": {},
   "outputs": [],
   "source": [
    "filtered_words=filtered_words.str.strip()\n",
    "filtered_words.replace(to_replace=[\"great\",\"Great\"],\n",
    "                                      value=\"Great\")\n"
   ]
  },
  {
   "cell_type": "code",
   "execution_count": null,
   "id": "adc79a00",
   "metadata": {},
   "outputs": [],
   "source": [
    "column_names = [\"word\",\"count\"]\n",
    "most_common_words_in_location = pd.DataFrame([dict(zip(column_names,word_count)) for word_count in Counter(filtered_words).most_common(20)])"
   ]
  },
  {
   "cell_type": "code",
   "execution_count": null,
   "id": "d0a018b6",
   "metadata": {},
   "outputs": [],
   "source": [
    "most_common_words_in_location.loc[0].word"
   ]
  },
  {
   "cell_type": "code",
   "execution_count": null,
   "id": "c01e0275",
   "metadata": {},
   "outputs": [],
   "source": [
    "most_common_words_in_location[\"word\"].replace([most_common_words_in_location.loc[0].word],np.NaN, inplace=True)"
   ]
  },
  {
   "cell_type": "code",
   "execution_count": null,
   "id": "36bb2963",
   "metadata": {},
   "outputs": [],
   "source": [
    "most_common_words_in_location.dropna(inplace=True)\n",
    "most_common_words_in_location.to_excel(\"Most common words.xlsx\")\n",
    "most_common_words_in_location"
   ]
  },
  {
   "cell_type": "code",
   "execution_count": null,
   "id": "cb53552e",
   "metadata": {},
   "outputs": [],
   "source": [
    "from wordcloud import WordCloud\n",
    "plt.figure(figsize=(10,8))\n",
    "wrdcloud=WordCloud(relative_scaling=1, colormap=\"Blues\", width=2800, height=1024).generate(\" \".join(most_common_words_in_location[\"word\"].tolist()))\n",
    "plt.imshow(wrdcloud)\n",
    "plt.axis(\"off\")\n",
    "plt.savefig(\"Wordcloud.jpg\", bbox_inches=\"tight\")"
   ]
  },
  {
   "cell_type": "code",
   "execution_count": null,
   "id": "21b4991e",
   "metadata": {},
   "outputs": [],
   "source": [
    "file\n"
   ]
  },
  {
   "cell_type": "code",
   "execution_count": null,
   "id": "f78fe5c1",
   "metadata": {},
   "outputs": [],
   "source": [
    "date_df=file.date\n",
    "date_df=pd.DataFrame(date_df)"
   ]
  },
  {
   "cell_type": "code",
   "execution_count": null,
   "id": "16cda049",
   "metadata": {},
   "outputs": [],
   "source": [
    "date_df.dtypes\n"
   ]
  },
  {
   "cell_type": "code",
   "execution_count": null,
   "id": "eab54c9e",
   "metadata": {},
   "outputs": [],
   "source": [
    "date_df[\"date\"].value_counts()"
   ]
  },
  {
   "cell_type": "code",
   "execution_count": null,
   "id": "21ef3fd7",
   "metadata": {},
   "outputs": [],
   "source": [
    "day_df=pd.DataFrame(date_df[\"date\"].dt.day.value_counts())\n",
    "day_df=day_df.reset_index()\n",
    "day_df=day_df.sort_values(\"index\")\n",
    "day_df=day_df.rename(columns={\"index\": \"Day of the month\",\n",
    "                              \"date\": \"Reviews\"})\n",
    "day_df.reset_index(inplace=True)\n",
    "day_df.drop(\"index\",axis=1,inplace=True)\n",
    "day_df.set_index(\"Day of the month\",inplace=True)"
   ]
  },
  {
   "cell_type": "code",
   "execution_count": null,
   "id": "9a45c8aa",
   "metadata": {},
   "outputs": [],
   "source": [
    "day_df.to_excel(\"Day occurences.xlsx\")\n",
    "day_df"
   ]
  },
  {
   "cell_type": "code",
   "execution_count": null,
   "id": "45b2df84",
   "metadata": {},
   "outputs": [],
   "source": [
    "plt.figure(figsize=(10,7))\n",
    "plt.hist(date_df[\"date\"].dt.day, histtype= \"stepfilled\",bins=31)\n",
    "plt.grid(True)"
   ]
  },
  {
   "cell_type": "code",
   "execution_count": null,
   "id": "1de6c5b0",
   "metadata": {},
   "outputs": [],
   "source": [
    "date_df[\"date\"].dt.month.value_counts()"
   ]
  },
  {
   "cell_type": "code",
   "execution_count": null,
   "id": "291c90d8",
   "metadata": {},
   "outputs": [],
   "source": [
    "b"
   ]
  },
  {
   "cell_type": "code",
   "execution_count": null,
   "id": "11eb0138",
   "metadata": {},
   "outputs": [],
   "source": [
    "date_df[\"date\"].dt.month.value_counts()"
   ]
  },
  {
   "cell_type": "code",
   "execution_count": null,
   "id": "aa54b7ad",
   "metadata": {},
   "outputs": [],
   "source": [
    "b=date_df.groupby([date_df[\"date\"].dt.year, date_df[\"date\"].dt.month]).count()\n",
    "b.rename(columns={\"date\":\"occurences\"}, inplace=True)"
   ]
  },
  {
   "cell_type": "code",
   "execution_count": null,
   "id": "6f69f06b",
   "metadata": {},
   "outputs": [],
   "source": [
    "b.to_excel(\"montly occurences.xlsx\")"
   ]
  },
  {
   "cell_type": "code",
   "execution_count": null,
   "id": "f5edefad",
   "metadata": {},
   "outputs": [],
   "source": []
  },
  {
   "cell_type": "code",
   "execution_count": null,
   "id": "3ddf523b",
   "metadata": {},
   "outputs": [],
   "source": []
  }
 ],
 "metadata": {
  "kernelspec": {
   "display_name": "Python 3",
   "language": "python",
   "name": "python3"
  },
  "language_info": {
   "codemirror_mode": {
    "name": "ipython",
    "version": 3
   },
   "file_extension": ".py",
   "mimetype": "text/x-python",
   "name": "python",
   "nbconvert_exporter": "python",
   "pygments_lexer": "ipython3",
   "version": "3.8.8"
  }
 },
 "nbformat": 4,
 "nbformat_minor": 5
}
